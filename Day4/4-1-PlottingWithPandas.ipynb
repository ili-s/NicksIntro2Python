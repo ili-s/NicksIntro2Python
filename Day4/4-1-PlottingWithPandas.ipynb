{
  "cells": [
    {
      "cell_type": "code",
      "execution_count": 1,
      "metadata": {},
      "outputs": [],
      "source": [
        "import matplotlib.pyplot as plt\n",
        "import numpy as np\n",
        "import pandas as pd"
      ]
    },
    {
      "cell_type": "markdown",
      "metadata": {},
      "source": [
        "# Pandas Warm-Up"
      ]
    },
    {
      "cell_type": "code",
      "execution_count": 2,
      "metadata": {},
      "outputs": [
        {
          "data": {
            "text/html": [
              "<div>\n",
              "<style scoped>\n",
              "    .dataframe tbody tr th:only-of-type {\n",
              "        vertical-align: middle;\n",
              "    }\n",
              "\n",
              "    .dataframe tbody tr th {\n",
              "        vertical-align: top;\n",
              "    }\n",
              "\n",
              "    .dataframe thead th {\n",
              "        text-align: right;\n",
              "    }\n",
              "</style>\n",
              "<table border=\"1\" class=\"dataframe\">\n",
              "  <thead>\n",
              "    <tr style=\"text-align: right;\">\n",
              "      <th></th>\n",
              "      <th>Group</th>\n",
              "      <th>Type</th>\n",
              "      <th>Average Weight</th>\n",
              "      <th>Average Bilirubin Level</th>\n",
              "      <th>Average Hemoglobin Level</th>\n",
              "    </tr>\n",
              "  </thead>\n",
              "  <tbody>\n",
              "    <tr>\n",
              "      <th>0</th>\n",
              "      <td>A</td>\n",
              "      <td>Control</td>\n",
              "      <td>61.2</td>\n",
              "      <td>6.3</td>\n",
              "      <td>12.3</td>\n",
              "    </tr>\n",
              "    <tr>\n",
              "      <th>1</th>\n",
              "      <td>B</td>\n",
              "      <td>Treatment</td>\n",
              "      <td>59.6</td>\n",
              "      <td>4.8</td>\n",
              "      <td>13.8</td>\n",
              "    </tr>\n",
              "    <tr>\n",
              "      <th>2</th>\n",
              "      <td>C</td>\n",
              "      <td>Treatment</td>\n",
              "      <td>63.4</td>\n",
              "      <td>4.9</td>\n",
              "      <td>12.1</td>\n",
              "    </tr>\n",
              "  </tbody>\n",
              "</table>\n",
              "</div>"
            ],
            "text/plain": [
              "  Group       Type  Average Weight  Average Bilirubin Level  \\\n",
              "0     A    Control            61.2                      6.3   \n",
              "1     B  Treatment            59.6                      4.8   \n",
              "2     C  Treatment            63.4                      4.9   \n",
              "\n",
              "   Average Hemoglobin Level  \n",
              "0                      12.3  \n",
              "1                      13.8  \n",
              "2                      12.1  "
            ]
          },
          "execution_count": 2,
          "metadata": {},
          "output_type": "execute_result"
        }
      ],
      "source": [
        "df = pd.DataFrame()\n",
        "df['Group'] = ['A', 'B', 'C']\n",
        "df['Type'] = ['Control', 'Treatment', 'Treatment']\n",
        "df['Average Weight'] = [61.2, 59.6, 63.4]\n",
        "df['Average Bilirubin Level'] = [6.3, 4.8, 4.9]\n",
        "df['Average Hemoglobin Level'] = [12.3, 13.8, 12.1]\n",
        "df"
      ]
    },
    {
      "cell_type": "markdown",
      "metadata": {},
      "source": []
    },
    {
      "cell_type": "markdown",
      "metadata": {},
      "source": [
        "## Giving Tables Some Style"
      ]
    },
    {
      "cell_type": "markdown",
      "metadata": {},
      "source": [
        "  - **Get Styler Version of DataFramte**: `df.style`\n",
        "  - **Styler Methods**: `background_gradient()`, `highlight_min()`, `highlight_max()`, `set_caption()`, `format()`, `hide_index()`, `relabel_index()`\n",
        "    - `props=` in each of these methods takes a CSS style string to set colors and fonts (see example below)\n",
        "  - **Style Ouptut**: `to_latex()`, `to_excel()`, `to_html()`\n",
        "\n",
        "\n",
        "** "
      ]
    },
    {
      "cell_type": "markdown",
      "metadata": {},
      "source": [
        "*Example*: Show the Table, highlighting the minimum values in each column.  For the highlighted cells, set the cell background to light grey and the font to black."
      ]
    },
    {
      "cell_type": "code",
      "execution_count": 12,
      "metadata": {},
      "outputs": [
        {
          "ename": "NameError",
          "evalue": "name 'pandas' is not defined",
          "output_type": "error",
          "traceback": [
            "\u001b[0;31m---------------------------------------------------------------------------\u001b[0m",
            "\u001b[0;31mNameError\u001b[0m                                 Traceback (most recent call last)",
            "Cell \u001b[0;32mIn [12], line 1\u001b[0m\n\u001b[0;32m----> 1\u001b[0m help(\u001b[43mpandas\u001b[49m\u001b[38;5;241m.\u001b[39mstyle\u001b[38;5;241m.\u001b[39mbackground_gradient)\n",
            "\u001b[0;31mNameError\u001b[0m: name 'pandas' is not defined"
          ]
        }
      ],
      "source": []
    },
    {
      "cell_type": "code",
      "execution_count": 3,
      "metadata": {},
      "outputs": [
        {
          "data": {
            "text/html": [
              "<style type=\"text/css\">\n",
              "#T_bc7ba_row1_col2, #T_bc7ba_row1_col3, #T_bc7ba_row2_col4 {\n",
              "  background-color: darkgrey;\n",
              "  color: black;\n",
              "}\n",
              "</style>\n",
              "<table id=\"T_bc7ba\">\n",
              "  <thead>\n",
              "    <tr>\n",
              "      <th class=\"blank level0\" >&nbsp;</th>\n",
              "      <th id=\"T_bc7ba_level0_col0\" class=\"col_heading level0 col0\" >Group</th>\n",
              "      <th id=\"T_bc7ba_level0_col1\" class=\"col_heading level0 col1\" >Type</th>\n",
              "      <th id=\"T_bc7ba_level0_col2\" class=\"col_heading level0 col2\" >Average Weight</th>\n",
              "      <th id=\"T_bc7ba_level0_col3\" class=\"col_heading level0 col3\" >Average Bilirubin Level</th>\n",
              "      <th id=\"T_bc7ba_level0_col4\" class=\"col_heading level0 col4\" >Average Hemoglobin Level</th>\n",
              "    </tr>\n",
              "  </thead>\n",
              "  <tbody>\n",
              "    <tr>\n",
              "      <th id=\"T_bc7ba_level0_row0\" class=\"row_heading level0 row0\" >0</th>\n",
              "      <td id=\"T_bc7ba_row0_col0\" class=\"data row0 col0\" >A</td>\n",
              "      <td id=\"T_bc7ba_row0_col1\" class=\"data row0 col1\" >Control</td>\n",
              "      <td id=\"T_bc7ba_row0_col2\" class=\"data row0 col2\" >61.200000</td>\n",
              "      <td id=\"T_bc7ba_row0_col3\" class=\"data row0 col3\" >6.300000</td>\n",
              "      <td id=\"T_bc7ba_row0_col4\" class=\"data row0 col4\" >12.300000</td>\n",
              "    </tr>\n",
              "    <tr>\n",
              "      <th id=\"T_bc7ba_level0_row1\" class=\"row_heading level0 row1\" >1</th>\n",
              "      <td id=\"T_bc7ba_row1_col0\" class=\"data row1 col0\" >B</td>\n",
              "      <td id=\"T_bc7ba_row1_col1\" class=\"data row1 col1\" >Treatment</td>\n",
              "      <td id=\"T_bc7ba_row1_col2\" class=\"data row1 col2\" >59.600000</td>\n",
              "      <td id=\"T_bc7ba_row1_col3\" class=\"data row1 col3\" >4.800000</td>\n",
              "      <td id=\"T_bc7ba_row1_col4\" class=\"data row1 col4\" >13.800000</td>\n",
              "    </tr>\n",
              "    <tr>\n",
              "      <th id=\"T_bc7ba_level0_row2\" class=\"row_heading level0 row2\" >2</th>\n",
              "      <td id=\"T_bc7ba_row2_col0\" class=\"data row2 col0\" >C</td>\n",
              "      <td id=\"T_bc7ba_row2_col1\" class=\"data row2 col1\" >Treatment</td>\n",
              "      <td id=\"T_bc7ba_row2_col2\" class=\"data row2 col2\" >63.400000</td>\n",
              "      <td id=\"T_bc7ba_row2_col3\" class=\"data row2 col3\" >4.900000</td>\n",
              "      <td id=\"T_bc7ba_row2_col4\" class=\"data row2 col4\" >12.100000</td>\n",
              "    </tr>\n",
              "  </tbody>\n",
              "</table>\n"
            ],
            "text/plain": [
              "<pandas.io.formats.style.Styler at 0x7fa6480d42e0>"
            ]
          },
          "execution_count": 3,
          "metadata": {},
          "output_type": "execute_result"
        }
      ],
      "source": [
        "df.style.highlight_min(['Average Weight', 'Average Bilirubin Level', 'Average Hemoglobin Level'], props='background-color: darkgrey; color: black;')"
      ]
    },
    {
      "cell_type": "markdown",
      "metadata": {},
      "source": [
        "*Example*: Show the Table, highlighting the maximum values in each column.  For the highlighted cells, set the cell background to light green and the font to black."
      ]
    },
    {
      "cell_type": "code",
      "execution_count": 4,
      "metadata": {},
      "outputs": [
        {
          "data": {
            "text/html": [
              "<style type=\"text/css\">\n",
              "#T_ea710_row0_col3, #T_ea710_row1_col4, #T_ea710_row2_col2 {\n",
              "  background-color: lightgreen;\n",
              "  color: black;\n",
              "}\n",
              "</style>\n",
              "<table id=\"T_ea710\">\n",
              "  <thead>\n",
              "    <tr>\n",
              "      <th class=\"blank level0\" >&nbsp;</th>\n",
              "      <th id=\"T_ea710_level0_col0\" class=\"col_heading level0 col0\" >Group</th>\n",
              "      <th id=\"T_ea710_level0_col1\" class=\"col_heading level0 col1\" >Type</th>\n",
              "      <th id=\"T_ea710_level0_col2\" class=\"col_heading level0 col2\" >Average Weight</th>\n",
              "      <th id=\"T_ea710_level0_col3\" class=\"col_heading level0 col3\" >Average Bilirubin Level</th>\n",
              "      <th id=\"T_ea710_level0_col4\" class=\"col_heading level0 col4\" >Average Hemoglobin Level</th>\n",
              "    </tr>\n",
              "  </thead>\n",
              "  <tbody>\n",
              "    <tr>\n",
              "      <th id=\"T_ea710_level0_row0\" class=\"row_heading level0 row0\" >0</th>\n",
              "      <td id=\"T_ea710_row0_col0\" class=\"data row0 col0\" >A</td>\n",
              "      <td id=\"T_ea710_row0_col1\" class=\"data row0 col1\" >Control</td>\n",
              "      <td id=\"T_ea710_row0_col2\" class=\"data row0 col2\" >61.200000</td>\n",
              "      <td id=\"T_ea710_row0_col3\" class=\"data row0 col3\" >6.300000</td>\n",
              "      <td id=\"T_ea710_row0_col4\" class=\"data row0 col4\" >12.300000</td>\n",
              "    </tr>\n",
              "    <tr>\n",
              "      <th id=\"T_ea710_level0_row1\" class=\"row_heading level0 row1\" >1</th>\n",
              "      <td id=\"T_ea710_row1_col0\" class=\"data row1 col0\" >B</td>\n",
              "      <td id=\"T_ea710_row1_col1\" class=\"data row1 col1\" >Treatment</td>\n",
              "      <td id=\"T_ea710_row1_col2\" class=\"data row1 col2\" >59.600000</td>\n",
              "      <td id=\"T_ea710_row1_col3\" class=\"data row1 col3\" >4.800000</td>\n",
              "      <td id=\"T_ea710_row1_col4\" class=\"data row1 col4\" >13.800000</td>\n",
              "    </tr>\n",
              "    <tr>\n",
              "      <th id=\"T_ea710_level0_row2\" class=\"row_heading level0 row2\" >2</th>\n",
              "      <td id=\"T_ea710_row2_col0\" class=\"data row2 col0\" >C</td>\n",
              "      <td id=\"T_ea710_row2_col1\" class=\"data row2 col1\" >Treatment</td>\n",
              "      <td id=\"T_ea710_row2_col2\" class=\"data row2 col2\" >63.400000</td>\n",
              "      <td id=\"T_ea710_row2_col3\" class=\"data row2 col3\" >4.900000</td>\n",
              "      <td id=\"T_ea710_row2_col4\" class=\"data row2 col4\" >12.100000</td>\n",
              "    </tr>\n",
              "  </tbody>\n",
              "</table>\n"
            ],
            "text/plain": [
              "<pandas.io.formats.style.Styler at 0x7fa6189b4370>"
            ]
          },
          "execution_count": 4,
          "metadata": {},
          "output_type": "execute_result"
        }
      ],
      "source": [
        "df.style.highlight_max(['Average Weight', 'Average Bilirubin Level', 'Average Hemoglobin Level'], props='background-color: lightgreen; color: black;')"
      ]
    },
    {
      "cell_type": "markdown",
      "metadata": {},
      "source": [
        "Highlight both the min and max by chaining the two methods together (`df.style.highlight_min().highligh_max()`), making the max values with a lightgreen background and the min values with a pink background.\n",
        "\n",
        "Tip: You can split method chains in Python into multiple lines by putting round brackets around the whole chain:\n",
        "\n",
        "```python\n",
        "(\n",
        "    df\n",
        "    .style\n",
        "    .highlight_min()\n",
        "    .highligh_max()\n",
        ")\n",
        "```"
      ]
    },
    {
      "cell_type": "code",
      "execution_count": 13,
      "metadata": {
        "tags": [
          "exercise"
        ]
      },
      "outputs": [
        {
          "data": {
            "text/html": [
              "<style type=\"text/css\">\n",
              "#T_05aaf_row0_col3, #T_05aaf_row1_col4, #T_05aaf_row2_col2 {\n",
              "  background-color: lightgreen;\n",
              "  color: black;\n",
              "}\n",
              "#T_05aaf_row1_col2, #T_05aaf_row1_col3, #T_05aaf_row2_col4 {\n",
              "  background-color: pink;\n",
              "  color: black;\n",
              "}\n",
              "</style>\n",
              "<table id=\"T_05aaf\">\n",
              "  <thead>\n",
              "    <tr>\n",
              "      <th class=\"blank level0\" >&nbsp;</th>\n",
              "      <th id=\"T_05aaf_level0_col0\" class=\"col_heading level0 col0\" >Group</th>\n",
              "      <th id=\"T_05aaf_level0_col1\" class=\"col_heading level0 col1\" >Type</th>\n",
              "      <th id=\"T_05aaf_level0_col2\" class=\"col_heading level0 col2\" >Average Weight</th>\n",
              "      <th id=\"T_05aaf_level0_col3\" class=\"col_heading level0 col3\" >Average Bilirubin Level</th>\n",
              "      <th id=\"T_05aaf_level0_col4\" class=\"col_heading level0 col4\" >Average Hemoglobin Level</th>\n",
              "    </tr>\n",
              "  </thead>\n",
              "  <tbody>\n",
              "    <tr>\n",
              "      <th id=\"T_05aaf_level0_row0\" class=\"row_heading level0 row0\" >0</th>\n",
              "      <td id=\"T_05aaf_row0_col0\" class=\"data row0 col0\" >A</td>\n",
              "      <td id=\"T_05aaf_row0_col1\" class=\"data row0 col1\" >Control</td>\n",
              "      <td id=\"T_05aaf_row0_col2\" class=\"data row0 col2\" >61.200000</td>\n",
              "      <td id=\"T_05aaf_row0_col3\" class=\"data row0 col3\" >6.300000</td>\n",
              "      <td id=\"T_05aaf_row0_col4\" class=\"data row0 col4\" >12.300000</td>\n",
              "    </tr>\n",
              "    <tr>\n",
              "      <th id=\"T_05aaf_level0_row1\" class=\"row_heading level0 row1\" >1</th>\n",
              "      <td id=\"T_05aaf_row1_col0\" class=\"data row1 col0\" >B</td>\n",
              "      <td id=\"T_05aaf_row1_col1\" class=\"data row1 col1\" >Treatment</td>\n",
              "      <td id=\"T_05aaf_row1_col2\" class=\"data row1 col2\" >59.600000</td>\n",
              "      <td id=\"T_05aaf_row1_col3\" class=\"data row1 col3\" >4.800000</td>\n",
              "      <td id=\"T_05aaf_row1_col4\" class=\"data row1 col4\" >13.800000</td>\n",
              "    </tr>\n",
              "    <tr>\n",
              "      <th id=\"T_05aaf_level0_row2\" class=\"row_heading level0 row2\" >2</th>\n",
              "      <td id=\"T_05aaf_row2_col0\" class=\"data row2 col0\" >C</td>\n",
              "      <td id=\"T_05aaf_row2_col1\" class=\"data row2 col1\" >Treatment</td>\n",
              "      <td id=\"T_05aaf_row2_col2\" class=\"data row2 col2\" >63.400000</td>\n",
              "      <td id=\"T_05aaf_row2_col3\" class=\"data row2 col3\" >4.900000</td>\n",
              "      <td id=\"T_05aaf_row2_col4\" class=\"data row2 col4\" >12.100000</td>\n",
              "    </tr>\n",
              "  </tbody>\n",
              "</table>\n"
            ],
            "text/plain": [
              "<pandas.io.formats.style.Styler at 0x7fa6188d6190>"
            ]
          },
          "execution_count": 13,
          "metadata": {},
          "output_type": "execute_result"
        }
      ],
      "source": [
        "(\n",
        "    df\n",
        "    .style\n",
        "    .highlight_min(['Average Weight', 'Average Bilirubin Level', 'Average Hemoglobin Level'], props='background-color: pink; color: black;')\n",
        "    .highlight_max(['Average Weight', 'Average Bilirubin Level', 'Average Hemoglobin Level'], props='background-color: lightgreen; color: black;')\n",
        ")"
      ]
    },
    {
      "cell_type": "markdown",
      "metadata": {},
      "source": [
        "Change all cell colors to show their order using a background gradient"
      ]
    },
    {
      "cell_type": "code",
      "execution_count": 14,
      "metadata": {
        "tags": [
          "exercise"
        ]
      },
      "outputs": [
        {
          "data": {
            "text/html": [
              "<style type=\"text/css\">\n",
              "#T_140cd_row0_col2 {\n",
              "  background-color: #94b6d7;\n",
              "  color: #000000;\n",
              "}\n",
              "#T_140cd_row0_col3, #T_140cd_row1_col4, #T_140cd_row2_col2 {\n",
              "  background-color: #023858;\n",
              "  color: #f1f1f1;\n",
              "}\n",
              "#T_140cd_row0_col4 {\n",
              "  background-color: #ede8f3;\n",
              "  color: #000000;\n",
              "}\n",
              "#T_140cd_row1_col2, #T_140cd_row1_col3, #T_140cd_row2_col4 {\n",
              "  background-color: #fff7fb;\n",
              "  color: #000000;\n",
              "}\n",
              "#T_140cd_row2_col3 {\n",
              "  background-color: #f5eef6;\n",
              "  color: #000000;\n",
              "}\n",
              "</style>\n",
              "<table id=\"T_140cd\">\n",
              "  <thead>\n",
              "    <tr>\n",
              "      <th class=\"blank level0\" >&nbsp;</th>\n",
              "      <th id=\"T_140cd_level0_col0\" class=\"col_heading level0 col0\" >Group</th>\n",
              "      <th id=\"T_140cd_level0_col1\" class=\"col_heading level0 col1\" >Type</th>\n",
              "      <th id=\"T_140cd_level0_col2\" class=\"col_heading level0 col2\" >Average Weight</th>\n",
              "      <th id=\"T_140cd_level0_col3\" class=\"col_heading level0 col3\" >Average Bilirubin Level</th>\n",
              "      <th id=\"T_140cd_level0_col4\" class=\"col_heading level0 col4\" >Average Hemoglobin Level</th>\n",
              "    </tr>\n",
              "  </thead>\n",
              "  <tbody>\n",
              "    <tr>\n",
              "      <th id=\"T_140cd_level0_row0\" class=\"row_heading level0 row0\" >0</th>\n",
              "      <td id=\"T_140cd_row0_col0\" class=\"data row0 col0\" >A</td>\n",
              "      <td id=\"T_140cd_row0_col1\" class=\"data row0 col1\" >Control</td>\n",
              "      <td id=\"T_140cd_row0_col2\" class=\"data row0 col2\" >61.200000</td>\n",
              "      <td id=\"T_140cd_row0_col3\" class=\"data row0 col3\" >6.300000</td>\n",
              "      <td id=\"T_140cd_row0_col4\" class=\"data row0 col4\" >12.300000</td>\n",
              "    </tr>\n",
              "    <tr>\n",
              "      <th id=\"T_140cd_level0_row1\" class=\"row_heading level0 row1\" >1</th>\n",
              "      <td id=\"T_140cd_row1_col0\" class=\"data row1 col0\" >B</td>\n",
              "      <td id=\"T_140cd_row1_col1\" class=\"data row1 col1\" >Treatment</td>\n",
              "      <td id=\"T_140cd_row1_col2\" class=\"data row1 col2\" >59.600000</td>\n",
              "      <td id=\"T_140cd_row1_col3\" class=\"data row1 col3\" >4.800000</td>\n",
              "      <td id=\"T_140cd_row1_col4\" class=\"data row1 col4\" >13.800000</td>\n",
              "    </tr>\n",
              "    <tr>\n",
              "      <th id=\"T_140cd_level0_row2\" class=\"row_heading level0 row2\" >2</th>\n",
              "      <td id=\"T_140cd_row2_col0\" class=\"data row2 col0\" >C</td>\n",
              "      <td id=\"T_140cd_row2_col1\" class=\"data row2 col1\" >Treatment</td>\n",
              "      <td id=\"T_140cd_row2_col2\" class=\"data row2 col2\" >63.400000</td>\n",
              "      <td id=\"T_140cd_row2_col3\" class=\"data row2 col3\" >4.900000</td>\n",
              "      <td id=\"T_140cd_row2_col4\" class=\"data row2 col4\" >12.100000</td>\n",
              "    </tr>\n",
              "  </tbody>\n",
              "</table>\n"
            ],
            "text/plain": [
              "<pandas.io.formats.style.Styler at 0x7fa5f1d1d070>"
            ]
          },
          "execution_count": 14,
          "metadata": {},
          "output_type": "execute_result"
        }
      ],
      "source": [
        "(\n",
        "    df\n",
        "    .style\n",
        "    .background_gradient()\n",
        ")"
      ]
    },
    {
      "cell_type": "markdown",
      "metadata": {},
      "source": [
        "Export the Styled table with background gradient to Latex:"
      ]
    },
    {
      "cell_type": "code",
      "execution_count": 16,
      "metadata": {
        "tags": [
          "exercise"
        ]
      },
      "outputs": [],
      "source": [
        "(\n",
        "    df\n",
        "    .style\n",
        "    .background_gradient()\n",
        "    .to_latex('table1.tex')\n",
        ")"
      ]
    },
    {
      "cell_type": "markdown",
      "metadata": {},
      "source": [
        "Export the Styled table with highlighted min and max to HTML, hiding the index column:"
      ]
    },
    {
      "cell_type": "code",
      "execution_count": 17,
      "metadata": {
        "tags": [
          "exercise"
        ]
      },
      "outputs": [
        {
          "name": "stderr",
          "output_type": "stream",
          "text": [
            "/tmp/ipykernel_1841/577447101.py:2: FutureWarning: this method is deprecated in favour of `Styler.hide(axis=\"index\")`\n",
            "  df\n"
          ]
        }
      ],
      "source": [
        "(\n",
        "    df\n",
        "    .style\n",
        "    .highlight_min(['Average Weight', 'Average Bilirubin Level', 'Average Hemoglobin Level'], props='background-color: pink; color: black;')\n",
        "    .highlight_max(['Average Weight', 'Average Bilirubin Level', 'Average Hemoglobin Level'], props='background-color: lightgreen; color: black;')\n",
        "    .hide_index()\n",
        "    .to_latex('table2.tex')\n",
        ")"
      ]
    },
    {
      "cell_type": "markdown",
      "metadata": {},
      "source": [
        "Export the Styled table with highlighted min and max to Excel, adding the caption \"Average Patient Group Data\":"
      ]
    },
    {
      "cell_type": "code",
      "execution_count": 23,
      "metadata": {
        "tags": [
          "exercise"
        ]
      },
      "outputs": [
        {
          "data": {
            "text/html": [
              "<style type=\"text/css\">\n",
              "#T_c39b8_row0_col3, #T_c39b8_row1_col4, #T_c39b8_row2_col2 {\n",
              "  background-color: lightgreen;\n",
              "  color: black;\n",
              "}\n",
              "#T_c39b8_row1_col2, #T_c39b8_row1_col3, #T_c39b8_row2_col4 {\n",
              "  background-color: pink;\n",
              "  color: black;\n",
              "}\n",
              "</style>\n",
              "<table id=\"T_c39b8\">\n",
              "  <caption>Average Patient Group Data</caption>\n",
              "  <thead>\n",
              "    <tr>\n",
              "      <th class=\"blank level0\" >&nbsp;</th>\n",
              "      <th id=\"T_c39b8_level0_col0\" class=\"col_heading level0 col0\" >Group</th>\n",
              "      <th id=\"T_c39b8_level0_col1\" class=\"col_heading level0 col1\" >Type</th>\n",
              "      <th id=\"T_c39b8_level0_col2\" class=\"col_heading level0 col2\" >Average Weight</th>\n",
              "      <th id=\"T_c39b8_level0_col3\" class=\"col_heading level0 col3\" >Average Bilirubin Level</th>\n",
              "      <th id=\"T_c39b8_level0_col4\" class=\"col_heading level0 col4\" >Average Hemoglobin Level</th>\n",
              "    </tr>\n",
              "  </thead>\n",
              "  <tbody>\n",
              "    <tr>\n",
              "      <th id=\"T_c39b8_level0_row0\" class=\"row_heading level0 row0\" >0</th>\n",
              "      <td id=\"T_c39b8_row0_col0\" class=\"data row0 col0\" >A</td>\n",
              "      <td id=\"T_c39b8_row0_col1\" class=\"data row0 col1\" >Control</td>\n",
              "      <td id=\"T_c39b8_row0_col2\" class=\"data row0 col2\" >61.200000</td>\n",
              "      <td id=\"T_c39b8_row0_col3\" class=\"data row0 col3\" >6.300000</td>\n",
              "      <td id=\"T_c39b8_row0_col4\" class=\"data row0 col4\" >12.300000</td>\n",
              "    </tr>\n",
              "    <tr>\n",
              "      <th id=\"T_c39b8_level0_row1\" class=\"row_heading level0 row1\" >1</th>\n",
              "      <td id=\"T_c39b8_row1_col0\" class=\"data row1 col0\" >B</td>\n",
              "      <td id=\"T_c39b8_row1_col1\" class=\"data row1 col1\" >Treatment</td>\n",
              "      <td id=\"T_c39b8_row1_col2\" class=\"data row1 col2\" >59.600000</td>\n",
              "      <td id=\"T_c39b8_row1_col3\" class=\"data row1 col3\" >4.800000</td>\n",
              "      <td id=\"T_c39b8_row1_col4\" class=\"data row1 col4\" >13.800000</td>\n",
              "    </tr>\n",
              "    <tr>\n",
              "      <th id=\"T_c39b8_level0_row2\" class=\"row_heading level0 row2\" >2</th>\n",
              "      <td id=\"T_c39b8_row2_col0\" class=\"data row2 col0\" >C</td>\n",
              "      <td id=\"T_c39b8_row2_col1\" class=\"data row2 col1\" >Treatment</td>\n",
              "      <td id=\"T_c39b8_row2_col2\" class=\"data row2 col2\" >63.400000</td>\n",
              "      <td id=\"T_c39b8_row2_col3\" class=\"data row2 col3\" >4.900000</td>\n",
              "      <td id=\"T_c39b8_row2_col4\" class=\"data row2 col4\" >12.100000</td>\n",
              "    </tr>\n",
              "  </tbody>\n",
              "</table>\n"
            ],
            "text/plain": [
              "<pandas.io.formats.style.Styler at 0x7fa5f107ca00>"
            ]
          },
          "execution_count": 23,
          "metadata": {},
          "output_type": "execute_result"
        }
      ],
      "source": [
        "indf =(\n",
        "    df\n",
        "    .style\n",
        "    .highlight_min(['Average Weight', 'Average Bilirubin Level', 'Average Hemoglobin Level'], props='background-color: pink; color: black;')\n",
        "    .highlight_max(['Average Weight', 'Average Bilirubin Level', 'Average Hemoglobin Level'], props='background-color: lightgreen; color: black;')\n",
        "    .set_caption(\"Average Patient Group Data\")    \n",
        ")\n",
        "indf.to_excel('table2.xlsx')\n",
        "indf"
      ]
    },
    {
      "cell_type": "markdown",
      "metadata": {},
      "source": [
        "## Plotting With Pandas\n",
        "\n",
        "Plotting Matplotlib Plots with Pandas is often straightforward:\n",
        "\n",
        "  - Calling Matplotlib function directly: (e.g. `plt.bar(df['Group'], df['Weight'])`)\n",
        "  - Or calling Dataframe Plotter methods directly: (e.g. `df.plot.bar('Group', 'Weight')`)\n",
        "  - Or calling `df.plot()` as a high-level method: (e.g. `df.plot('Group', 'Weight', kind='bar')`)\n",
        "\n",
        "Saving the most-recent figure is usually still done with matplotlib's `plt.figsave()` function, regardless of whether the plot is made with Matplotlib or Pandas functions."
      ]
    },
    {
      "cell_type": "markdown",
      "metadata": {},
      "source": [
        "**Exercises**: Let's try it out!"
      ]
    },
    {
      "cell_type": "markdown",
      "metadata": {},
      "source": [
        "*Example*: Using Matplotlib directly, make a bar plot showing the average weight of each group. Save it to a file named `example.png`:"
      ]
    },
    {
      "cell_type": "code",
      "execution_count": 24,
      "metadata": {},
      "outputs": [
        {
          "data": {
            "image/png": "[encoded data removed]",
            "text/plain": [
              "<Figure size 640x480 with 1 Axes>"
            ]
          },
          "metadata": {},
          "output_type": "display_data"
        }
      ],
      "source": [
        "plt.bar(df['Group'], df['Average Weight']);\n",
        "plt.savefig('example.ignore.png')"
      ]
    },
    {
      "cell_type": "markdown",
      "metadata": {},
      "source": [
        "*Example*: This time using Pandas directly, make a bar plot showing the average weight of each group (be sure to label the axes). Save it to a file named `example2.png`:"
      ]
    },
    {
      "cell_type": "code",
      "execution_count": 27,
      "metadata": {
        "tags": [
          "exercise"
        ]
      },
      "outputs": [
        {
          "data": {
            "text/plain": [
              "<AxesSubplot: xlabel='Group', ylabel='Average Weight'>"
            ]
          },
          "execution_count": 27,
          "metadata": {},
          "output_type": "execute_result"
        },
        {
          "data": {
            "image/png": "[encoded data removed]",
            "text/plain": [
              "<Figure size 640x480 with 1 Axes>"
            ]
          },
          "metadata": {},
          "output_type": "display_data"
        }
      ],
      "source": [
        "df.plot(x = 'Group', y = 'Average Weight', ylabel = \"Average Weight\",kind = 'bar')"
      ]
    },
    {
      "cell_type": "markdown",
      "metadata": {},
      "source": [
        "Using Matplotlib directly, make a bar plot showing the average bilirubin levels by patient group.  Save the figure to `bili.png`"
      ]
    },
    {
      "cell_type": "code",
      "execution_count": 33,
      "metadata": {
        "tags": [
          "exercise"
        ]
      },
      "outputs": [
        {
          "data": {
            "image/png": "[encoded data removed]",
            "text/plain": [
              "<Figure size 640x480 with 1 Axes>"
            ]
          },
          "metadata": {},
          "output_type": "display_data"
        }
      ],
      "source": [
        "plt.bar(df['Group'], df['Average Bilirubin Level'])\n",
        "plt.savefig(\"bili.png\") # AttributeError: 'BarContainer' object has no attribute 'savefig'\n"
      ]
    },
    {
      "cell_type": "markdown",
      "metadata": {},
      "source": [
        "*Example*: This time using Pandas directly, make a bar plot showing the average bilirubin level of each group (be sure to label the axes). Save it to a file named `bili2.png`:"
      ]
    },
    {
      "cell_type": "code",
      "execution_count": 34,
      "metadata": {
        "tags": [
          "exercise"
        ]
      },
      "outputs": [
        {
          "data": {
            "image/png": "[encoded data removed]",
            "text/plain": [
              "<Figure size 640x480 with 1 Axes>"
            ]
          },
          "metadata": {},
          "output_type": "display_data"
        }
      ],
      "source": [
        "df.plot(x = 'Group', y = 'Average Bilirubin Level', ylabel = \"Average Bilirubin Level\",kind = 'bar')\n",
        "plt.savefig(\"bili2.png\")"
      ]
    },
    {
      "cell_type": "markdown",
      "metadata": {},
      "source": [
        "Call the `df.plot()` function with no arguments and see what happens.  Try tweaking the parameters of the function to make things more clear or interesting, maing three different figures with their own unique layouts and looks.  Take a look at the options here: https://pandas.pydata.org/pandas-docs/version/0.22/generated/pandas.DataFrame.plot.html#pandas-dataframe-plot\n"
      ]
    },
    {
      "cell_type": "code",
      "execution_count": 41,
      "metadata": {
        "tags": [
          "exercise"
        ]
      },
      "outputs": [
        {
          "data": {
            "text/plain": [
              "<AxesSubplot: xlabel='Average Weight', ylabel='Average Bilirubin Level'>"
            ]
          },
          "execution_count": 41,
          "metadata": {},
          "output_type": "execute_result"
        },
        {
          "data": {
            "image/png": "[encoded data removed]",
            "text/plain": [
              "<Figure size 640x480 with 1 Axes>"
            ]
          },
          "metadata": {},
          "output_type": "display_data"
        }
      ],
      "source": [
        "df.plot(x= 'Average Weight', y = 'Average Bilirubin Level', kind = 'scatter')"
      ]
    },
    {
      "cell_type": "code",
      "execution_count": 48,
      "metadata": {},
      "outputs": [
        {
          "data": {
            "text/plain": [
              "(['Group',\n",
              "  'Type',\n",
              "  'Average Weight',\n",
              "  'Average Bilirubin Level',\n",
              "  'Average Hemoglobin Level'],\n",
              " Index(['Type', 'Average Weight'], dtype='object'))"
            ]
          },
          "execution_count": 48,
          "metadata": {},
          "output_type": "execute_result"
        }
      ],
      "source": [
        "list(df.columns)"
      ]
    },
    {
      "cell_type": "code",
      "execution_count": 49,
      "metadata": {},
      "outputs": [
        {
          "data": {
            "text/html": [
              "<div>\n",
              "<style scoped>\n",
              "    .dataframe tbody tr th:only-of-type {\n",
              "        vertical-align: middle;\n",
              "    }\n",
              "\n",
              "    .dataframe tbody tr th {\n",
              "        vertical-align: top;\n",
              "    }\n",
              "\n",
              "    .dataframe thead th {\n",
              "        text-align: right;\n",
              "    }\n",
              "</style>\n",
              "<table border=\"1\" class=\"dataframe\">\n",
              "  <thead>\n",
              "    <tr style=\"text-align: right;\">\n",
              "      <th></th>\n",
              "      <th>Type</th>\n",
              "      <th>Average Weight</th>\n",
              "    </tr>\n",
              "  </thead>\n",
              "  <tbody>\n",
              "    <tr>\n",
              "      <th>0</th>\n",
              "      <td>Control</td>\n",
              "      <td>61.2</td>\n",
              "    </tr>\n",
              "    <tr>\n",
              "      <th>1</th>\n",
              "      <td>Treatment</td>\n",
              "      <td>59.6</td>\n",
              "    </tr>\n",
              "    <tr>\n",
              "      <th>2</th>\n",
              "      <td>Treatment</td>\n",
              "      <td>63.4</td>\n",
              "    </tr>\n",
              "  </tbody>\n",
              "</table>\n",
              "</div>"
            ],
            "text/plain": [
              "        Type  Average Weight\n",
              "0    Control            61.2\n",
              "1  Treatment            59.6\n",
              "2  Treatment            63.4"
            ]
          },
          "execution_count": 49,
          "metadata": {},
          "output_type": "execute_result"
        }
      ],
      "source": [
        "df[['Type', 'Average Weight']]"
      ]
    },
    {
      "cell_type": "code",
      "execution_count": 50,
      "metadata": {},
      "outputs": [
        {
          "data": {
            "text/plain": [
              "1"
            ]
          },
          "execution_count": 50,
          "metadata": {},
          "output_type": "execute_result"
        }
      ],
      "source": [
        "list(df.columns).index('Type')"
      ]
    },
    {
      "cell_type": "code",
      "execution_count": 51,
      "metadata": {},
      "outputs": [
        {
          "data": {
            "text/html": [
              "<div>\n",
              "<style scoped>\n",
              "    .dataframe tbody tr th:only-of-type {\n",
              "        vertical-align: middle;\n",
              "    }\n",
              "\n",
              "    .dataframe tbody tr th {\n",
              "        vertical-align: top;\n",
              "    }\n",
              "\n",
              "    .dataframe thead th {\n",
              "        text-align: right;\n",
              "    }\n",
              "</style>\n",
              "<table border=\"1\" class=\"dataframe\">\n",
              "  <thead>\n",
              "    <tr style=\"text-align: right;\">\n",
              "      <th></th>\n",
              "      <th>0</th>\n",
              "    </tr>\n",
              "  </thead>\n",
              "  <tbody>\n",
              "    <tr>\n",
              "      <th>0</th>\n",
              "      <td>Group</td>\n",
              "    </tr>\n",
              "    <tr>\n",
              "      <th>1</th>\n",
              "      <td>Type</td>\n",
              "    </tr>\n",
              "    <tr>\n",
              "      <th>2</th>\n",
              "      <td>Average Weight</td>\n",
              "    </tr>\n",
              "    <tr>\n",
              "      <th>3</th>\n",
              "      <td>Average Bilirubin Level</td>\n",
              "    </tr>\n",
              "    <tr>\n",
              "      <th>4</th>\n",
              "      <td>Average Hemoglobin Level</td>\n",
              "    </tr>\n",
              "  </tbody>\n",
              "</table>\n",
              "</div>"
            ],
            "text/plain": [
              "                          0\n",
              "0                     Group\n",
              "1                      Type\n",
              "2            Average Weight\n",
              "3   Average Bilirubin Level\n",
              "4  Average Hemoglobin Level"
            ]
          },
          "execution_count": 51,
          "metadata": {},
          "output_type": "execute_result"
        }
      ],
      "source": [
        "pd.DataFrame(list(df.columns))"
      ]
    },
    {
      "cell_type": "code",
      "execution_count": 52,
      "metadata": {},
      "outputs": [
        {
          "data": {
            "text/html": [
              "<div>\n",
              "<style scoped>\n",
              "    .dataframe tbody tr th:only-of-type {\n",
              "        vertical-align: middle;\n",
              "    }\n",
              "\n",
              "    .dataframe tbody tr th {\n",
              "        vertical-align: top;\n",
              "    }\n",
              "\n",
              "    .dataframe thead th {\n",
              "        text-align: right;\n",
              "    }\n",
              "</style>\n",
              "<table border=\"1\" class=\"dataframe\">\n",
              "  <thead>\n",
              "    <tr style=\"text-align: right;\">\n",
              "      <th></th>\n",
              "      <th>Group</th>\n",
              "      <th>Type</th>\n",
              "      <th>Average Weight</th>\n",
              "      <th>Average Bilirubin Level</th>\n",
              "      <th>Average Hemoglobin Level</th>\n",
              "    </tr>\n",
              "  </thead>\n",
              "  <tbody>\n",
              "    <tr>\n",
              "      <th>1</th>\n",
              "      <td>B</td>\n",
              "      <td>Treatment</td>\n",
              "      <td>59.6</td>\n",
              "      <td>4.8</td>\n",
              "      <td>13.8</td>\n",
              "    </tr>\n",
              "  </tbody>\n",
              "</table>\n",
              "</div>"
            ],
            "text/plain": [
              "  Group       Type  Average Weight  Average Bilirubin Level  \\\n",
              "1     B  Treatment            59.6                      4.8   \n",
              "\n",
              "   Average Hemoglobin Level  \n",
              "1                      13.8  "
            ]
          },
          "execution_count": 52,
          "metadata": {},
          "output_type": "execute_result"
        }
      ],
      "source": [
        "df.iloc[1:2]"
      ]
    },
    {
      "cell_type": "code",
      "execution_count": 54,
      "metadata": {},
      "outputs": [
        {
          "data": {
            "text/html": [
              "<div>\n",
              "<style scoped>\n",
              "    .dataframe tbody tr th:only-of-type {\n",
              "        vertical-align: middle;\n",
              "    }\n",
              "\n",
              "    .dataframe tbody tr th {\n",
              "        vertical-align: top;\n",
              "    }\n",
              "\n",
              "    .dataframe thead th {\n",
              "        text-align: right;\n",
              "    }\n",
              "</style>\n",
              "<table border=\"1\" class=\"dataframe\">\n",
              "  <thead>\n",
              "    <tr style=\"text-align: right;\">\n",
              "      <th></th>\n",
              "      <th>Group</th>\n",
              "      <th>Type</th>\n",
              "      <th>Average Weight</th>\n",
              "      <th>Average Bilirubin Level</th>\n",
              "      <th>Average Hemoglobin Level</th>\n",
              "    </tr>\n",
              "  </thead>\n",
              "  <tbody>\n",
              "    <tr>\n",
              "      <th>NE</th>\n",
              "      <td>A</td>\n",
              "      <td>Control</td>\n",
              "      <td>61.2</td>\n",
              "      <td>6.3</td>\n",
              "      <td>12.3</td>\n",
              "    </tr>\n",
              "    <tr>\n",
              "      <th>DE</th>\n",
              "      <td>B</td>\n",
              "      <td>Treatment</td>\n",
              "      <td>59.6</td>\n",
              "      <td>4.8</td>\n",
              "      <td>13.8</td>\n",
              "    </tr>\n",
              "    <tr>\n",
              "      <th>UK</th>\n",
              "      <td>C</td>\n",
              "      <td>Treatment</td>\n",
              "      <td>63.4</td>\n",
              "      <td>4.9</td>\n",
              "      <td>12.1</td>\n",
              "    </tr>\n",
              "  </tbody>\n",
              "</table>\n",
              "</div>"
            ],
            "text/plain": [
              "   Group       Type  Average Weight  Average Bilirubin Level  \\\n",
              "NE     A    Control            61.2                      6.3   \n",
              "DE     B  Treatment            59.6                      4.8   \n",
              "UK     C  Treatment            63.4                      4.9   \n",
              "\n",
              "    Average Hemoglobin Level  \n",
              "NE                      12.3  \n",
              "DE                      13.8  \n",
              "UK                      12.1  "
            ]
          },
          "execution_count": 54,
          "metadata": {},
          "output_type": "execute_result"
        }
      ],
      "source": [
        "df.index = [\"NE\", \"DE\", \"UK\"]\n",
        "df"
      ]
    },
    {
      "cell_type": "code",
      "execution_count": 55,
      "metadata": {},
      "outputs": [
        {
          "data": {
            "text/plain": [
              "Group                             A\n",
              "Type                        Control\n",
              "Average Weight                 61.2\n",
              "Average Bilirubin Level         6.3\n",
              "Average Hemoglobin Level       12.3\n",
              "Name: NE, dtype: object"
            ]
          },
          "execution_count": 55,
          "metadata": {},
          "output_type": "execute_result"
        }
      ],
      "source": [
        "df.iloc[0]"
      ]
    },
    {
      "cell_type": "code",
      "execution_count": 56,
      "metadata": {},
      "outputs": [
        {
          "data": {
            "text/html": [
              "<div>\n",
              "<style scoped>\n",
              "    .dataframe tbody tr th:only-of-type {\n",
              "        vertical-align: middle;\n",
              "    }\n",
              "\n",
              "    .dataframe tbody tr th {\n",
              "        vertical-align: top;\n",
              "    }\n",
              "\n",
              "    .dataframe thead th {\n",
              "        text-align: right;\n",
              "    }\n",
              "</style>\n",
              "<table border=\"1\" class=\"dataframe\">\n",
              "  <thead>\n",
              "    <tr style=\"text-align: right;\">\n",
              "      <th></th>\n",
              "      <th>Group</th>\n",
              "      <th>Type</th>\n",
              "      <th>Average Weight</th>\n",
              "      <th>Average Bilirubin Level</th>\n",
              "      <th>Average Hemoglobin Level</th>\n",
              "    </tr>\n",
              "  </thead>\n",
              "  <tbody>\n",
              "    <tr>\n",
              "      <th>NE</th>\n",
              "      <td>A</td>\n",
              "      <td>Control</td>\n",
              "      <td>61.2</td>\n",
              "      <td>6.3</td>\n",
              "      <td>12.3</td>\n",
              "    </tr>\n",
              "    <tr>\n",
              "      <th>DE</th>\n",
              "      <td>B</td>\n",
              "      <td>Treatment</td>\n",
              "      <td>59.6</td>\n",
              "      <td>4.8</td>\n",
              "      <td>13.8</td>\n",
              "    </tr>\n",
              "    <tr>\n",
              "      <th>UK</th>\n",
              "      <td>C</td>\n",
              "      <td>Treatment</td>\n",
              "      <td>63.4</td>\n",
              "      <td>4.9</td>\n",
              "      <td>12.1</td>\n",
              "    </tr>\n",
              "  </tbody>\n",
              "</table>\n",
              "</div>"
            ],
            "text/plain": [
              "   Group       Type  Average Weight  Average Bilirubin Level  \\\n",
              "NE     A    Control            61.2                      6.3   \n",
              "DE     B  Treatment            59.6                      4.8   \n",
              "UK     C  Treatment            63.4                      4.9   \n",
              "\n",
              "    Average Hemoglobin Level  \n",
              "NE                      12.3  \n",
              "DE                      13.8  \n",
              "UK                      12.1  "
            ]
          },
          "execution_count": 56,
          "metadata": {},
          "output_type": "execute_result"
        }
      ],
      "source": [
        "df.loc['NE':'UK']"
      ]
    },
    {
      "cell_type": "code",
      "execution_count": 57,
      "metadata": {},
      "outputs": [
        {
          "data": {
            "text/html": [
              "<div>\n",
              "<style scoped>\n",
              "    .dataframe tbody tr th:only-of-type {\n",
              "        vertical-align: middle;\n",
              "    }\n",
              "\n",
              "    .dataframe tbody tr th {\n",
              "        vertical-align: top;\n",
              "    }\n",
              "\n",
              "    .dataframe thead th {\n",
              "        text-align: right;\n",
              "    }\n",
              "</style>\n",
              "<table border=\"1\" class=\"dataframe\">\n",
              "  <thead>\n",
              "    <tr style=\"text-align: right;\">\n",
              "      <th></th>\n",
              "      <th>Group</th>\n",
              "      <th>Average Bilirubin Level</th>\n",
              "    </tr>\n",
              "  </thead>\n",
              "  <tbody>\n",
              "    <tr>\n",
              "      <th>NE</th>\n",
              "      <td>A</td>\n",
              "      <td>6.3</td>\n",
              "    </tr>\n",
              "    <tr>\n",
              "      <th>DE</th>\n",
              "      <td>B</td>\n",
              "      <td>4.8</td>\n",
              "    </tr>\n",
              "    <tr>\n",
              "      <th>UK</th>\n",
              "      <td>C</td>\n",
              "      <td>4.9</td>\n",
              "    </tr>\n",
              "  </tbody>\n",
              "</table>\n",
              "</div>"
            ],
            "text/plain": [
              "   Group  Average Bilirubin Level\n",
              "NE     A                      6.3\n",
              "DE     B                      4.8\n",
              "UK     C                      4.9"
            ]
          },
          "execution_count": 57,
          "metadata": {},
          "output_type": "execute_result"
        }
      ],
      "source": [
        "df[['Group','Average Bilirubin Level']]"
      ]
    },
    {
      "cell_type": "code",
      "execution_count": 58,
      "metadata": {},
      "outputs": [
        {
          "name": "stdout",
          "output_type": "stream",
          "text": [
            "<class 'pandas.core.frame.DataFrame'>\n",
            "Index: 3 entries, NE to UK\n",
            "Data columns (total 5 columns):\n",
            " #   Column                    Non-Null Count  Dtype  \n",
            "---  ------                    --------------  -----  \n",
            " 0   Group                     3 non-null      object \n",
            " 1   Type                      3 non-null      object \n",
            " 2   Average Weight            3 non-null      float64\n",
            " 3   Average Bilirubin Level   3 non-null      float64\n",
            " 4   Average Hemoglobin Level  3 non-null      float64\n",
            "dtypes: float64(3), object(2)\n",
            "memory usage: 252.0+ bytes\n"
          ]
        }
      ],
      "source": [
        "df.info() # string type is shown as object"
      ]
    },
    {
      "cell_type": "code",
      "execution_count": 59,
      "metadata": {},
      "outputs": [
        {
          "data": {
            "text/html": [
              "<div>\n",
              "<style scoped>\n",
              "    .dataframe tbody tr th:only-of-type {\n",
              "        vertical-align: middle;\n",
              "    }\n",
              "\n",
              "    .dataframe tbody tr th {\n",
              "        vertical-align: top;\n",
              "    }\n",
              "\n",
              "    .dataframe thead th {\n",
              "        text-align: right;\n",
              "    }\n",
              "</style>\n",
              "<table border=\"1\" class=\"dataframe\">\n",
              "  <thead>\n",
              "    <tr style=\"text-align: right;\">\n",
              "      <th></th>\n",
              "      <th>Average Weight</th>\n",
              "      <th>Average Bilirubin Level</th>\n",
              "      <th>Average Hemoglobin Level</th>\n",
              "    </tr>\n",
              "  </thead>\n",
              "  <tbody>\n",
              "    <tr>\n",
              "      <th>count</th>\n",
              "      <td>3.000000</td>\n",
              "      <td>3.000000</td>\n",
              "      <td>3.000000</td>\n",
              "    </tr>\n",
              "    <tr>\n",
              "      <th>mean</th>\n",
              "      <td>61.400000</td>\n",
              "      <td>5.333333</td>\n",
              "      <td>12.733333</td>\n",
              "    </tr>\n",
              "    <tr>\n",
              "      <th>std</th>\n",
              "      <td>1.907878</td>\n",
              "      <td>0.838650</td>\n",
              "      <td>0.929157</td>\n",
              "    </tr>\n",
              "    <tr>\n",
              "      <th>min</th>\n",
              "      <td>59.600000</td>\n",
              "      <td>4.800000</td>\n",
              "      <td>12.100000</td>\n",
              "    </tr>\n",
              "    <tr>\n",
              "      <th>25%</th>\n",
              "      <td>60.400000</td>\n",
              "      <td>4.850000</td>\n",
              "      <td>12.200000</td>\n",
              "    </tr>\n",
              "    <tr>\n",
              "      <th>50%</th>\n",
              "      <td>61.200000</td>\n",
              "      <td>4.900000</td>\n",
              "      <td>12.300000</td>\n",
              "    </tr>\n",
              "    <tr>\n",
              "      <th>75%</th>\n",
              "      <td>62.300000</td>\n",
              "      <td>5.600000</td>\n",
              "      <td>13.050000</td>\n",
              "    </tr>\n",
              "    <tr>\n",
              "      <th>max</th>\n",
              "      <td>63.400000</td>\n",
              "      <td>6.300000</td>\n",
              "      <td>13.800000</td>\n",
              "    </tr>\n",
              "  </tbody>\n",
              "</table>\n",
              "</div>"
            ],
            "text/plain": [
              "       Average Weight  Average Bilirubin Level  Average Hemoglobin Level\n",
              "count        3.000000                 3.000000                  3.000000\n",
              "mean        61.400000                 5.333333                 12.733333\n",
              "std          1.907878                 0.838650                  0.929157\n",
              "min         59.600000                 4.800000                 12.100000\n",
              "25%         60.400000                 4.850000                 12.200000\n",
              "50%         61.200000                 4.900000                 12.300000\n",
              "75%         62.300000                 5.600000                 13.050000\n",
              "max         63.400000                 6.300000                 13.800000"
            ]
          },
          "execution_count": 59,
          "metadata": {},
          "output_type": "execute_result"
        }
      ],
      "source": [
        "df.describe()"
      ]
    },
    {
      "cell_type": "code",
      "execution_count": 45,
      "metadata": {
        "tags": [
          "exercise"
        ]
      },
      "outputs": [
        {
          "data": {
            "text/plain": [
              "<AxesSubplot: ylabel='Frequency'>"
            ]
          },
          "execution_count": 45,
          "metadata": {},
          "output_type": "execute_result"
        },
        {
          "data": {
            "image/png": "[encoded data removed]",
            "text/plain": [
              "<Figure size 640x480 with 1 Axes>"
            ]
          },
          "metadata": {},
          "output_type": "display_data"
        }
      ],
      "source": [
        "df.plot(x= 'Average Weight', y = 'Average Bilirubin Level', xlabel= 'Average Weight', kind = 'hist')"
      ]
    },
    {
      "cell_type": "code",
      "execution_count": 62,
      "metadata": {},
      "outputs": [
        {
          "data": {
            "text/plain": [
              "array([[<AxesSubplot: title={'center': 'Average Weight'}>,\n",
              "        <AxesSubplot: title={'center': 'Average Bilirubin Level'}>],\n",
              "       [<AxesSubplot: title={'center': 'Average Hemoglobin Level'}>,\n",
              "        <AxesSubplot: >]], dtype=object)"
            ]
          },
          "execution_count": 62,
          "metadata": {},
          "output_type": "execute_result"
        },
        {
          "data": {
            "image/png": "[encoded data removed]",
            "text/plain": [
              "<Figure size 640x480 with 4 Axes>"
            ]
          },
          "metadata": {},
          "output_type": "display_data"
        }
      ],
      "source": [
        "df.plot(subplots = True, kind = 'bar', layout = (2,2))"
      ]
    },
    {
      "cell_type": "code",
      "execution_count": 44,
      "metadata": {
        "tags": [
          "exercise"
        ]
      },
      "outputs": [
        {
          "data": {
            "text/plain": [
              "<AxesSubplot: ylabel='Density'>"
            ]
          },
          "execution_count": 44,
          "metadata": {},
          "output_type": "execute_result"
        },
        {
          "data": {
            "image/png": "[encoded data removed]",
            "text/plain": [
              "<Figure size 640x480 with 1 Axes>"
            ]
          },
          "metadata": {},
          "output_type": "display_data"
        }
      ],
      "source": [
        "df.plot(x= 'Average Weight', y = 'Average Bilirubin Level', kind = 'kde')"
      ]
    },
    {
      "cell_type": "code",
      "execution_count": 65,
      "metadata": {},
      "outputs": [
        {
          "data": {
            "text/plain": [
              "Treatment    0.666667\n",
              "Control      0.333333\n",
              "Name: Type, dtype: float64"
            ]
          },
          "execution_count": 65,
          "metadata": {},
          "output_type": "execute_result"
        }
      ],
      "source": [
        "df['Type'].value_counts(normalize = True)"
      ]
    },
    {
      "cell_type": "code",
      "execution_count": 66,
      "metadata": {},
      "outputs": [
        {
          "data": {
            "text/plain": [
              "Average Weight              61.400000\n",
              "Average Bilirubin Level      5.333333\n",
              "Average Hemoglobin Level    12.733333\n",
              "dtype: float64"
            ]
          },
          "execution_count": 66,
          "metadata": {},
          "output_type": "execute_result"
        }
      ],
      "source": [
        "df.mean(numeric_only=True)"
      ]
    }
  ],
  "metadata": {
    "kernelspec": {
      "display_name": "Python 3.9.12 ('base': conda)",
      "language": "python",
      "name": "python3"
    },
    "language_info": {
      "codemirror_mode": {
        "name": "ipython",
        "version": 3
      },
      "file_extension": ".py",
      "mimetype": "text/x-python",
      "name": "python",
      "nbconvert_exporter": "python",
      "pygments_lexer": "ipython3",
      "version": "3.9.12"
    },
    "vscode": {
      "interpreter": {
        "hash": "561aa7e90536f8d3504249807164c36879ac4e0f88f61e36d3f9364d99fad98f"
      }
    }
  },
  "nbformat": 4,
  "nbformat_minor": 4
}
