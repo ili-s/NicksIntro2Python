{
  "cells": [
    {
      "cell_type": "markdown",
      "source": "# Loops: Describing How to Repeat Steps in a Program\n\nProgramming languages require three essential features, two of which we've covered so far:\n\n   - [x] Conditional Flow (covered so far with `if-else`)\n   - [x] Loops  (covered so far with `while`)\n   - [ ] Abstraction (next time with `functions`)\n\nSo, why learn `for` loops, if we already have a way to do loops?  Well, because `while` loops tend to be challenging to reason about, buggy, and difficult to break down into small, manageable parts. `for` loops(specifically, a \"For-Each\" loop), on the other hand, are helpful for writing loop code that is concise and self-explanatory.\n\n```\n# While Loop Example                               # For Loop Example\ni = 0                                               \nnames = ['Nick', 'Yiwen', 'Adrian']                 names = ['Nick', 'Yiwen', 'Adrian']\nwhile i < len(names):                               for name in names:\n    name = names[i]                                     print(name)\n    print(name)\n```\n\n",
      "metadata": {
        "tags": [],
        "cell_id": "e87478b1ec0d4605b0d78f584a0a9d44",
        "deepnote_cell_height": 649.734375,
        "deepnote_cell_type": "markdown"
      }
    },
    {
      "cell_type": "markdown",
      "source": "## For Loops:\n\nLike R and Matlab, Python makes it straightford repeat commands \"For-Each\" element in a data collection.  For example, to print each element in a list:\n\n```python\nnames = ['Ted', 'Roy', 'Keeley']\nfor name in names:\n   print(name)\n# prints \"Ted\" then \"Roy\" then \"Keeley\"\n```\n.\n\n",
      "metadata": {
        "tags": [],
        "cell_id": "6133f2f575014330abc5543bfe8f4574",
        "deepnote_cell_height": 276.6875,
        "deepnote_cell_type": "markdown"
      }
    },
    {
      "cell_type": "markdown",
      "source": "**Exercises**",
      "metadata": {
        "tags": [],
        "cell_id": "86a960b1ead240a0846a328c1db40651",
        "deepnote_cell_height": 52.34375,
        "deepnote_cell_type": "markdown"
      }
    },
    {
      "cell_type": "markdown",
      "source": "Print each number plus 100.",
      "metadata": {
        "tags": [],
        "cell_id": "0621e92f2eb24a00b3f28eb51af2cba8",
        "deepnote_cell_height": 52.34375,
        "deepnote_cell_type": "markdown"
      }
    },
    {
      "cell_type": "code",
      "source": "nums = [5, 3, 1]\nfor num in nums:\n    print(num + 100)",
      "metadata": {
        "tags": [],
        "cell_id": "a35814697af74b5e8dae013d916e50b5",
        "source_hash": "3ef37248",
        "execution_start": 1653639686507,
        "execution_millis": 7,
        "deepnote_cell_height": 187.34375,
        "deepnote_to_be_reexecuted": false,
        "deepnote_cell_type": "code"
      },
      "outputs": [
        {
          "name": "stdout",
          "text": "105\n103\n101\n",
          "output_type": "stream"
        }
      ],
      "execution_count": null
    },
    {
      "cell_type": "markdown",
      "source": "Print 10 times each number in the list \nFor example, `[2, 4]` should print `20` then `40`.",
      "metadata": {
        "tags": [],
        "cell_id": "226a8e31da0044f68ac16f0dc6ca36e6",
        "deepnote_cell_height": 74.734375,
        "deepnote_cell_type": "markdown"
      }
    },
    {
      "cell_type": "code",
      "source": "nums = [4, 8, 10, 5]",
      "metadata": {
        "tags": [],
        "cell_id": "e93fd129d5974042a6b90de60dcba8f5",
        "source_hash": "5b10538f",
        "execution_start": 1634192534154,
        "execution_millis": 11,
        "deepnote_cell_height": 80.953125,
        "deepnote_to_be_reexecuted": false,
        "deepnote_cell_type": "code"
      },
      "outputs": [],
      "execution_count": null
    },
    {
      "cell_type": "markdown",
      "source": "Print the first letter of each name in the list",
      "metadata": {
        "tags": [],
        "cell_id": "e583b7a219434b8b8747e255fade6bab",
        "deepnote_cell_height": 52.34375,
        "deepnote_cell_type": "markdown"
      }
    },
    {
      "cell_type": "code",
      "source": "names = [\"John\", \"Harry\", \"Moe\", \"Luke\"]",
      "metadata": {
        "tags": [],
        "cell_id": "92803495dd0f40cea1afc908c13421de",
        "source_hash": "3d0d6b91",
        "execution_start": 1634192558128,
        "execution_millis": 3,
        "deepnote_cell_height": 80.953125,
        "deepnote_to_be_reexecuted": false,
        "deepnote_cell_type": "code"
      },
      "outputs": [],
      "execution_count": null
    },
    {
      "cell_type": "markdown",
      "source": "Print the file extension of each file in the list (Tip: `os.path.splitext()`)",
      "metadata": {
        "tags": [],
        "cell_id": "e1c8d7198363406b95344acb95a9aaa2",
        "deepnote_cell_height": 52.34375,
        "deepnote_cell_type": "markdown"
      }
    },
    {
      "cell_type": "code",
      "source": "filenames = ['virus.fasta', 'birthday.jpg', 'hospital.csv', 'letter.pdf']\n",
      "metadata": {
        "tags": [],
        "cell_id": "2894dae148a8457d9896b88fcc9e12ca",
        "source_hash": "8b821e2c",
        "execution_start": 1634192751322,
        "execution_millis": 4,
        "deepnote_cell_height": 98.953125,
        "deepnote_to_be_reexecuted": false,
        "deepnote_cell_type": "code"
      },
      "outputs": [],
      "execution_count": null
    },
    {
      "cell_type": "markdown",
      "source": "Print each positive number in the list.",
      "metadata": {
        "cell_id": "423b462a71324ae088c0592f4691fb86",
        "deepnote_cell_height": 52.34375,
        "deepnote_cell_type": "markdown"
      }
    },
    {
      "cell_type": "code",
      "source": "nums = [5, 2, 4, -1, -5, 8, 9, 1, -6, 3, 7]\n",
      "metadata": {
        "cell_id": "3f74e6b9a8684d28bf6c49f14bda48d3",
        "deepnote_cell_height": 83.953125,
        "deepnote_cell_type": "code"
      },
      "outputs": [],
      "execution_count": null
    },
    {
      "cell_type": "markdown",
      "source": "Inside the 'Parent' folder, create each of the folders in the list\n\n(Tip: put forward slashes between the folder names, e.g. `Parent/Child`)\n\n(Tip: `os.makedirs(exist_ok=True)`)",
      "metadata": {
        "cell_id": "d48a1bad848144b89dca3fa8cf112cc7",
        "deepnote_cell_height": 125.109375,
        "deepnote_cell_type": "markdown"
      }
    },
    {
      "cell_type": "code",
      "source": "parent = \"Parent\"\nchild_folder_names = ['a', 'b', 'c', 'd']\n",
      "metadata": {
        "cell_id": "2d907fd7538c46d4aaa6bd1148800ed8",
        "source_hash": "b503dd67",
        "execution_start": 1654153908005,
        "execution_millis": 4,
        "deepnote_cell_height": 116.953125,
        "deepnote_to_be_reexecuted": false,
        "deepnote_cell_type": "code"
      },
      "outputs": [],
      "execution_count": null
    },
    {
      "cell_type": "code",
      "source": "",
      "metadata": {
        "cell_id": "8fc66b224e5348cd8e351e817ef5e622",
        "deepnote_cell_height": 65.953125,
        "deepnote_cell_type": "code"
      },
      "outputs": [],
      "execution_count": null
    },
    {
      "cell_type": "markdown",
      "source": "Run the following code to generate some random folder and files  using the `os` and `glob` packages, then process them below:\n\nUseful functions: `os.listdir()`, `os.walk()`, `os.getcwd()`, `glob.glob()`, `open(filename).read()`, `open(filename).readlines()`",
      "metadata": {
        "cell_id": "345a7a6c0c7b4ec1b710c1669833daef",
        "deepnote_cell_height": 133.5,
        "deepnote_cell_type": "markdown"
      }
    },
    {
      "cell_type": "code",
      "source": "import os, random\nparent_folder = 'ExampleProject'\nfolders = ['scripts', 'data/raw', 'data/processed', 'data/final']\nfor folder in folders:\n    os.makedirs(parent_folder + '/' + folder, exist_ok=True)\ndata_nums = [1, 2, 4, 5, 6]\nfor num in data_nums:\n    data_file = open(parent_folder + f'/data/raw/dataset{num}.txt', 'w')\n    data_file.write(f\"{random.randint(1, 101)}\\n\")\n    data_file.write(f\"{random.randint(1, 101)}\\n\")\n    data_file.write(f\"{random.randint(1, 101)}\\n\")\n    data_file.close()\nreadme_file = open(parent_folder + '/README.md', 'w')\nreadme_file.write('# Example Project\\n\\nWelcome to the Project!\\n')\nreadme_file.close()\n",
      "metadata": {
        "cell_id": "6b31054fece34e9faf48ece0599228bb",
        "deepnote_cell_height": 335.953125,
        "deepnote_cell_type": "code"
      },
      "outputs": [],
      "execution_count": null
    },
    {
      "cell_type": "markdown",
      "source": "In the ExampleProject folder, how many folders and files are there in total?",
      "metadata": {
        "cell_id": "b27a6b0f052b4fd1a00323aafb1d3dd9",
        "deepnote_cell_height": 52.34375,
        "deepnote_cell_type": "markdown"
      }
    },
    {
      "cell_type": "code",
      "source": "",
      "metadata": {
        "cell_id": "e0bcf64a4908403d83348e0493ce992b",
        "deepnote_cell_height": 65.953125,
        "deepnote_cell_type": "code"
      },
      "outputs": [],
      "execution_count": null
    },
    {
      "cell_type": "markdown",
      "source": "In the ExampleProject/data/raw folder, how many data files are there?",
      "metadata": {
        "cell_id": "b4f324a558ee4b4f9da17798e351bf76",
        "deepnote_cell_height": 52.34375,
        "deepnote_cell_type": "markdown"
      }
    },
    {
      "cell_type": "code",
      "source": "",
      "metadata": {
        "cell_id": "058558d22a80481c9a8601916c231b8b",
        "deepnote_cell_height": 65.953125,
        "deepnote_cell_type": "code"
      },
      "outputs": [],
      "execution_count": null
    },
    {
      "cell_type": "markdown",
      "source": "Open each of the data files in the data/raw folder. What is the sum of the numbers in each file?",
      "metadata": {
        "cell_id": "a8c976f0046b469a82190ffbb6c34410",
        "deepnote_cell_height": 74.734375,
        "deepnote_cell_type": "markdown"
      }
    },
    {
      "cell_type": "code",
      "source": "",
      "metadata": {
        "cell_id": "118bcdc06c6143aa9c29c9216ce3ff51",
        "deepnote_cell_height": 65.953125,
        "deepnote_cell_type": "code"
      },
      "outputs": [],
      "execution_count": null
    },
    {
      "cell_type": "markdown",
      "source": "## List-Append Loop Pattern",
      "metadata": {
        "tags": [],
        "cell_id": "ec7d608abec64512b425eb2bf3c1a803",
        "deepnote_cell_height": 69.953125,
        "deepnote_cell_type": "markdown"
      }
    },
    {
      "cell_type": "markdown",
      "source": "This can also be used to create new data collections.  For example:\n\n```python\nold_names = ['ted', 'roy', 'keeley']\nnew_names = []\nfor name in old_names:\n   new_names.append(name.title())\n```",
      "metadata": {
        "tags": [],
        "cell_id": "8c63c75ea18b44a19d316f09bf8bd726",
        "deepnote_cell_height": 175.921875,
        "deepnote_cell_type": "markdown"
      }
    },
    {
      "cell_type": "markdown",
      "source": "**Exercises**",
      "metadata": {
        "tags": [],
        "cell_id": "3295c14ec6e2462f9fa0c84d1c542d75",
        "deepnote_cell_height": 52.34375,
        "deepnote_cell_type": "markdown"
      }
    },
    {
      "cell_type": "markdown",
      "source": "Make a list with the first codon of each sequence",
      "metadata": {
        "tags": [],
        "cell_id": "61f102ff813946f4be51535b7ce522c0",
        "deepnote_cell_height": 52.34375,
        "deepnote_cell_type": "markdown"
      }
    },
    {
      "cell_type": "code",
      "source": "seqs = [\"GTAATCG\", \"GTACCAAA\", \"GGTAGTACCAC\"]\n\n",
      "metadata": {
        "tags": [],
        "cell_id": "c9191906729649559cb04e18f103e1ee",
        "source_hash": "6d164d09",
        "execution_start": 1654160822830,
        "execution_millis": 1,
        "deepnote_cell_height": 116.953125,
        "deepnote_to_be_reexecuted": false,
        "deepnote_cell_type": "code"
      },
      "outputs": [],
      "execution_count": null
    },
    {
      "cell_type": "markdown",
      "source": "Clean up the data.  Make a list with that formats each sequence the same way.",
      "metadata": {
        "tags": [],
        "cell_id": "5dc5b087a0264d7da773e43bd13fb931",
        "deepnote_cell_height": 52.34375,
        "deepnote_cell_type": "markdown"
      }
    },
    {
      "cell_type": "code",
      "source": "x = 1\ny = 2\nx, y = 1, 2",
      "metadata": {
        "tags": [],
        "cell_id": "16d806793db4447688c4b5ee274db671",
        "source_hash": "fed26fcf",
        "execution_start": 1654161117883,
        "execution_millis": 5,
        "deepnote_cell_height": 116.953125,
        "deepnote_to_be_reexecuted": false,
        "deepnote_cell_type": "code"
      },
      "outputs": [],
      "execution_count": null
    },
    {
      "cell_type": "code",
      "source": "seqs = [\"GTAATCG\", \"gtaccaaa\", \"GGtAGtACCaC\"]\n\nclean_seqs = []\nfor seq in seqs:\n    clean_seqs.append(seq.upper())\n    \n\nlower_seqs = []\nfor seq in seqs:\n    lower_seqs.append(seq.lower())    \n\nclean_seqs",
      "metadata": {
        "tags": [],
        "cell_id": "3f0c8d5b602d44cf9ffeff15cbeeaeea",
        "source_hash": "3a47d1c5",
        "execution_start": 1654161293882,
        "execution_millis": 17,
        "deepnote_cell_height": 316.125,
        "deepnote_output_heights": [
          21.1875
        ],
        "deepnote_to_be_reexecuted": false,
        "deepnote_cell_type": "code"
      },
      "outputs": [
        {
          "output_type": "execute_result",
          "execution_count": 8,
          "data": {
            "text/plain": "['GTAATCG', 'GTACCAAA', 'GGTAGTACCAC']"
          },
          "metadata": {}
        }
      ],
      "execution_count": null
    },
    {
      "cell_type": "code",
      "source": "clean_seqs = [x.upper() for x in seqs]\nclean_seqs",
      "metadata": {
        "tags": [],
        "cell_id": "9724a9e0b5b64a36b2225957d9d4840b",
        "source_hash": "f3730428",
        "execution_start": 1654161433295,
        "execution_millis": 453,
        "deepnote_cell_height": 136.125,
        "deepnote_output_heights": [
          21.1875
        ],
        "deepnote_to_be_reexecuted": false,
        "deepnote_cell_type": "code"
      },
      "outputs": [
        {
          "output_type": "execute_result",
          "execution_count": 10,
          "data": {
            "text/plain": "['GTAATCG', 'GTACCAAA', 'GGTAGTACCAC']"
          },
          "metadata": {}
        }
      ],
      "execution_count": null
    },
    {
      "cell_type": "markdown",
      "source": "Make a list of the number of A in each sequence",
      "metadata": {
        "tags": [],
        "cell_id": "eedf196fca0340c093b84dc6a2a2adc9",
        "deepnote_cell_height": 52.34375,
        "deepnote_cell_type": "markdown"
      }
    },
    {
      "cell_type": "code",
      "source": "",
      "metadata": {
        "tags": [],
        "cell_id": "319b76b6e9234ecc839e777bfe4ba1a0",
        "source_hash": "b623e53d",
        "execution_start": 1654160542355,
        "execution_millis": 2,
        "deepnote_cell_height": 80.953125,
        "deepnote_to_be_reexecuted": false,
        "deepnote_cell_type": "code"
      },
      "outputs": [],
      "execution_count": null
    },
    {
      "cell_type": "markdown",
      "source": "Make a list sequences from the list of sequences combinations.\n",
      "metadata": {
        "tags": [],
        "cell_id": "142e67f35fcf4e968b3c411818bd8585",
        "deepnote_cell_height": 52.34375,
        "deepnote_cell_type": "markdown"
      }
    },
    {
      "cell_type": "code",
      "source": "seqs = ['GCAGA GATATC', 'GGTAAAA ACTAGA GGTATA', 'GGTAA']",
      "metadata": {
        "tags": [],
        "cell_id": "891c4966907249dcbb0a64473ccdf1e6",
        "source_hash": "5668ad21",
        "owner_user_id": "c7a9f7f2-eddd-41d5-be7d-5159ad6417bb",
        "execution_start": 1654161531605,
        "execution_millis": 24,
        "deepnote_cell_height": 144.125,
        "deepnote_output_heights": [
          21.1875
        ],
        "deepnote_to_be_reexecuted": false,
        "deepnote_cell_type": "code"
      },
      "outputs": [
        {
          "output_type": "error",
          "ename": "AttributeError",
          "evalue": "'list' object has no attribute 'split'",
          "traceback": [
            "\u001b[0;31m---------------------------------------------------------------------------\u001b[0m",
            "\u001b[0;31mAttributeError\u001b[0m                            Traceback (most recent call last)",
            "\u001b[0;32m<ipython-input-15-3faf0d1a329e>\u001b[0m in \u001b[0;36m<module>\u001b[0;34m\u001b[0m\n\u001b[1;32m      1\u001b[0m \u001b[0mseqs\u001b[0m \u001b[0;34m=\u001b[0m \u001b[0;34m[\u001b[0m\u001b[0;34m'GCAGA GATATC'\u001b[0m\u001b[0;34m,\u001b[0m \u001b[0;34m'GGTAAAA ACTAGA GGTATA'\u001b[0m\u001b[0;34m,\u001b[0m \u001b[0;34m'GGTAA'\u001b[0m\u001b[0;34m]\u001b[0m\u001b[0;34m\u001b[0m\u001b[0;34m\u001b[0m\u001b[0m\n\u001b[0;32m----> 2\u001b[0;31m \u001b[0;34m[\u001b[0m\u001b[0ms\u001b[0m \u001b[0;32mfor\u001b[0m \u001b[0ms\u001b[0m \u001b[0;32min\u001b[0m \u001b[0mseqs\u001b[0m \u001b[0;32mfor\u001b[0m \u001b[0ms\u001b[0m \u001b[0;32min\u001b[0m \u001b[0mseqs\u001b[0m\u001b[0;34m.\u001b[0m\u001b[0msplit\u001b[0m\u001b[0;34m(\u001b[0m\u001b[0;34m)\u001b[0m\u001b[0;34m]\u001b[0m\u001b[0;34m\u001b[0m\u001b[0;34m\u001b[0m\u001b[0m\n\u001b[0m",
            "\u001b[0;32m<ipython-input-15-3faf0d1a329e>\u001b[0m in \u001b[0;36m<listcomp>\u001b[0;34m(.0)\u001b[0m\n\u001b[1;32m      1\u001b[0m \u001b[0mseqs\u001b[0m \u001b[0;34m=\u001b[0m \u001b[0;34m[\u001b[0m\u001b[0;34m'GCAGA GATATC'\u001b[0m\u001b[0;34m,\u001b[0m \u001b[0;34m'GGTAAAA ACTAGA GGTATA'\u001b[0m\u001b[0;34m,\u001b[0m \u001b[0;34m'GGTAA'\u001b[0m\u001b[0;34m]\u001b[0m\u001b[0;34m\u001b[0m\u001b[0;34m\u001b[0m\u001b[0m\n\u001b[0;32m----> 2\u001b[0;31m \u001b[0;34m[\u001b[0m\u001b[0ms\u001b[0m \u001b[0;32mfor\u001b[0m \u001b[0ms\u001b[0m \u001b[0;32min\u001b[0m \u001b[0mseqs\u001b[0m \u001b[0;32mfor\u001b[0m \u001b[0ms\u001b[0m \u001b[0;32min\u001b[0m \u001b[0mseqs\u001b[0m\u001b[0;34m.\u001b[0m\u001b[0msplit\u001b[0m\u001b[0;34m(\u001b[0m\u001b[0;34m)\u001b[0m\u001b[0;34m]\u001b[0m\u001b[0;34m\u001b[0m\u001b[0;34m\u001b[0m\u001b[0m\n\u001b[0m",
            "\u001b[0;31mAttributeError\u001b[0m: 'list' object has no attribute 'split'"
          ]
        }
      ],
      "execution_count": null
    },
    {
      "cell_type": "markdown",
      "source": "## Sequence-Unpacking Loop Pattern\n\nLoops are also useful when you have a collection of collections (e.g. a list of lists).\nWhen it's a collection of same-length sequences, you can break apart each sequence inside the loop and work with it:\n\n```python\npairs = [[4, 5], [7, 8], [2, 9]]\nsums = []\nfor pair in pairs:\n    first = pair[0]\n    second = pair[1]\n    sums.append(first + second)\n```\n.\n\nThis is so common, that python provides some syntactic sugar (i.e. a shortcut) for breaking known-length sequences apart, called **\"Unpacking\"**\n.\n\n```python\npairs = [[4, 5], [7, 8], [2, 9]]\nsums = []\nfor pair in pairs:\n    first, second = pair\n    sums.append(first + second)\n```\n.\n\nThis can even be done in the header of the for-loop!\n\n```python\npairs = [[4, 5], [7, 8], [2, 9]]\nsums = []\nfor first, second in pairs:\n    sums.append(first + second)\n```",
      "metadata": {
        "tags": [],
        "cell_id": "1df34f920b764c018d9727b736f1e12a",
        "deepnote_cell_height": 730.953125,
        "deepnote_cell_type": "markdown"
      }
    },
    {
      "cell_type": "markdown",
      "source": "**Exercises**",
      "metadata": {
        "tags": [],
        "cell_id": "69b295907ecf49d8bf007482b01eba1c",
        "deepnote_cell_height": 52.34375,
        "deepnote_cell_type": "markdown"
      }
    },
    {
      "cell_type": "markdown",
      "source": "Make a list of the sum of each number pair",
      "metadata": {
        "tags": [],
        "cell_id": "1cabeb95dff44deba020056d29ee6985",
        "deepnote_cell_height": 52.34375,
        "deepnote_cell_type": "markdown"
      }
    },
    {
      "cell_type": "code",
      "source": "pairs = [[4, 7], [7, 2], [10, 2], [5, 9]]",
      "metadata": {
        "tags": [],
        "cell_id": "f8fbd735bc8c415ea3abcad878fd5ee6",
        "source_hash": "2c8eda3e",
        "execution_start": 1634193665675,
        "execution_millis": 0,
        "deepnote_cell_height": 80.953125,
        "deepnote_to_be_reexecuted": false,
        "deepnote_cell_type": "code"
      },
      "outputs": [],
      "execution_count": null
    },
    {
      "cell_type": "markdown",
      "source": "Write each sequence to its corresponding a file",
      "metadata": {
        "tags": [],
        "cell_id": "f4bde44ec29547dd8ff92e90ed3703ae",
        "deepnote_cell_height": 52.34375,
        "deepnote_cell_type": "markdown"
      }
    },
    {
      "cell_type": "code",
      "source": "dataset = [\n    ('seq1.txt', 'GACCAGTA'),\n    ('seqA.txt', 'GGAGAGTATAC'),\n    ('myseq.txt', 'GTTTAAC'),\n]",
      "metadata": {
        "tags": [],
        "cell_id": "0c6566e48298492a81ab312d1bef9f57",
        "source_hash": "1e246064",
        "execution_start": 1634193800852,
        "execution_millis": 9,
        "deepnote_cell_height": 152.953125,
        "deepnote_to_be_reexecuted": false,
        "deepnote_cell_type": "code"
      },
      "outputs": [],
      "execution_count": null
    },
    {
      "cell_type": "markdown",
      "source": "Make a list of Trues and Falses, saying whether the first sequence (the wild-type) in each triplet has more G's than both the second and third sequence in the triplet (the two experimental sequences)",
      "metadata": {
        "tags": [],
        "cell_id": "1753d188921344cd8f778d57681cff80",
        "deepnote_cell_height": 97.109375,
        "deepnote_cell_type": "markdown"
      }
    },
    {
      "cell_type": "code",
      "source": "seq_collections = [\n    ('GACAGGAGATTA', 'GACCAGATA', 'GCCAGAGGATAA'),\n    ('gacccatagag', 'CAGATAcaga', 'GAGGAACCaca'),\n    ('ACCAGATA', 'GAGAAAGACCA', 'CCAGAGATATTA'),\n    ('AGGGACCCCA', 'CGCCCACCACCG', 'CCCATTATC'),\n]\n",
      "metadata": {
        "tags": [],
        "cell_id": "f497276a335c4f378fd42dade610f048",
        "source_hash": "f2e588d",
        "execution_start": 1634194257070,
        "execution_millis": 3,
        "deepnote_cell_height": 188.953125,
        "deepnote_to_be_reexecuted": false,
        "deepnote_cell_type": "code"
      },
      "outputs": [],
      "execution_count": null
    },
    {
      "cell_type": "markdown",
      "source": "<a style='text-decoration:none;line-height:16px;display:flex;color:#5B5B62;padding:10px;justify-content:end;' href='https://deepnote.com?utm_source=created-in-deepnote-cell&projectId=2b117e46-dc1e-4350-8c44-0b1d367af50b' target=\"_blank\">\n<img alt='Created in deepnote.com' style='display:inline;max-height:16px;margin:0px;margin-right:7.5px;' src='data:image/svg+xml;base64,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' > </img>\nCreated in <span style='font-weight:600;margin-left:4px;'>Deepnote</span></a>",
      "metadata": {
        "tags": [],
        "created_in_deepnote_cell": true,
        "deepnote_cell_type": "markdown"
      }
    }
  ],
  "nbformat": 4,
  "nbformat_minor": 0,
  "metadata": {
    "deepnote": {
      "is_reactive": false
    },
    "kernelspec": {
      "name": "python3",
      "language": "python",
      "display_name": "Python 3 (ipykernel)"
    },
    "language_info": {
      "name": "python",
      "version": "3.8.13",
      "mimetype": "text/x-python",
      "file_extension": ".py",
      "pygments_lexer": "ipython3",
      "codemirror_mode": {
        "name": "ipython",
        "version": 3
      },
      "nbconvert_exporter": "python"
    },
    "deepnote_notebook_id": "db0d2ab26654474ea3e8d0428297f04b",
    "deepnote_execution_queue": []
  }
}