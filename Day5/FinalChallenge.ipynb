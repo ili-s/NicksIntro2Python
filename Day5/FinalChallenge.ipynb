{
 "cells": [
  {
   "cell_type": "code",
   "execution_count": 17,
   "metadata": {},
   "outputs": [
    {
     "name": "stdout",
     "output_type": "stream",
     "text": [
      "Requirement already satisfied: numpy in /workspace/NicksIntro2Python/miniconda/lib/python3.9/site-packages (1.23.4)\n",
      "Requirement already satisfied: pandas in /workspace/NicksIntro2Python/miniconda/lib/python3.9/site-packages (1.5.0)\n",
      "Requirement already satisfied: matplotlib in /workspace/NicksIntro2Python/miniconda/lib/python3.9/site-packages (3.6.1)\n",
      "Requirement already satisfied: seaborn in /workspace/NicksIntro2Python/miniconda/lib/python3.9/site-packages (0.12.0)\n",
      "Requirement already satisfied: python-dateutil>=2.8.1 in /workspace/NicksIntro2Python/miniconda/lib/python3.9/site-packages (from pandas) (2.8.2)\n",
      "Requirement already satisfied: pytz>=2020.1 in /workspace/NicksIntro2Python/miniconda/lib/python3.9/site-packages (from pandas) (2022.4)\n",
      "Requirement already satisfied: pyparsing>=2.2.1 in /workspace/NicksIntro2Python/miniconda/lib/python3.9/site-packages (from matplotlib) (3.0.9)\n",
      "Requirement already satisfied: cycler>=0.10 in /workspace/NicksIntro2Python/miniconda/lib/python3.9/site-packages (from matplotlib) (0.11.0)\n",
      "Requirement already satisfied: fonttools>=4.22.0 in /workspace/NicksIntro2Python/miniconda/lib/python3.9/site-packages (from matplotlib) (4.37.4)\n",
      "Requirement already satisfied: pillow>=6.2.0 in /workspace/NicksIntro2Python/miniconda/lib/python3.9/site-packages (from matplotlib) (9.2.0)\n",
      "Requirement already satisfied: kiwisolver>=1.0.1 in /workspace/NicksIntro2Python/miniconda/lib/python3.9/site-packages (from matplotlib) (1.4.4)\n",
      "Requirement already satisfied: contourpy>=1.0.1 in /workspace/NicksIntro2Python/miniconda/lib/python3.9/site-packages (from matplotlib) (1.0.5)\n",
      "Requirement already satisfied: packaging>=20.0 in /workspace/NicksIntro2Python/miniconda/lib/python3.9/site-packages (from matplotlib) (21.3)\n",
      "Requirement already satisfied: six>=1.5 in /workspace/NicksIntro2Python/miniconda/lib/python3.9/site-packages (from python-dateutil>=2.8.1->pandas) (1.16.0)\n",
      "Note: you may need to restart the kernel to use updated packages.\n"
     ]
    }
   ],
   "source": [
    "%pip install numpy pandas matplotlib seaborn"
   ]
  },
  {
   "cell_type": "code",
   "execution_count": 18,
   "metadata": {},
   "outputs": [],
   "source": [
    "import numpy as np\n",
    "import pandas as pd\n",
    "import matplotlib.pyplot as plt\n",
    "import seaborn as sns\n",
    "from pathlib import Path\n"
   ]
  },
  {
   "cell_type": "markdown",
   "metadata": {},
   "source": [
    "Run this to create the data:"
   ]
  },
  {
   "cell_type": "code",
   "execution_count": 19,
   "metadata": {},
   "outputs": [],
   "source": [
    "basenames = ['AA', 'BB', 'CC', 'DD', 'EE']\n",
    "basedir = Path('example_data')\n",
    "basedir.mkdir(exist_ok=True)\n",
    "for basename in basenames:\n",
    "    path = basedir.joinpath(basename).with_suffix('.csv')\n",
    "    df = pd.DataFrame({\n",
    "        'a': np.random.randint(0, 30, size=100),\n",
    "        'b': np.random.normal(np.random.uniform(0, 10), np.random.uniform(.5, 10)),\n",
    "    })\n",
    "    df.to_csv(path)\n",
    "    "
   ]
  },
  {
   "cell_type": "markdown",
   "metadata": {},
   "source": [
    "## Batch Processing Challenge: \n",
    "### Save a histogram for each CSV file in a folder."
   ]
  },
  {
   "cell_type": "markdown",
   "metadata": {},
   "source": [
    "**Exercise**: Load each of the CSV files in the `example_data` folder, saving the histogram of the `B` column in the file to a file called, for example 'bb_hist.png'\n",
    "\n",
    "*Some Useful Code Snippets*: \n",
    "  - `list(Path('folder').glob('*.csv'))`\n",
    "  - `for filename in ['file1', 'file2']:`\n",
    "  - `pd.read_csv('filename.csv')`\n",
    "  - `df['colname']`\n",
    "  - `plt.hist(data)`\n",
    "  - `plt.savefig('filename.png')`\n",
    "  - `Path('folder').with_name('newname.png')`"
   ]
  },
  {
   "cell_type": "markdown",
   "metadata": {},
   "source": []
  },
  {
   "cell_type": "code",
   "execution_count": 5,
   "metadata": {},
   "outputs": [
    {
     "data": {
      "text/html": [
       "<div>\n",
       "<style scoped>\n",
       "    .dataframe tbody tr th:only-of-type {\n",
       "        vertical-align: middle;\n",
       "    }\n",
       "\n",
       "    .dataframe tbody tr th {\n",
       "        vertical-align: top;\n",
       "    }\n",
       "\n",
       "    .dataframe thead th {\n",
       "        text-align: right;\n",
       "    }\n",
       "</style>\n",
       "<table border=\"1\" class=\"dataframe\">\n",
       "  <thead>\n",
       "    <tr style=\"text-align: right;\">\n",
       "      <th></th>\n",
       "      <th>Unnamed: 0</th>\n",
       "      <th>a</th>\n",
       "      <th>b</th>\n",
       "    </tr>\n",
       "  </thead>\n",
       "  <tbody>\n",
       "    <tr>\n",
       "      <th>0</th>\n",
       "      <td>0</td>\n",
       "      <td>15</td>\n",
       "      <td>9.64803</td>\n",
       "    </tr>\n",
       "    <tr>\n",
       "      <th>1</th>\n",
       "      <td>1</td>\n",
       "      <td>25</td>\n",
       "      <td>9.64803</td>\n",
       "    </tr>\n",
       "    <tr>\n",
       "      <th>2</th>\n",
       "      <td>2</td>\n",
       "      <td>24</td>\n",
       "      <td>9.64803</td>\n",
       "    </tr>\n",
       "    <tr>\n",
       "      <th>3</th>\n",
       "      <td>3</td>\n",
       "      <td>21</td>\n",
       "      <td>9.64803</td>\n",
       "    </tr>\n",
       "    <tr>\n",
       "      <th>4</th>\n",
       "      <td>4</td>\n",
       "      <td>16</td>\n",
       "      <td>9.64803</td>\n",
       "    </tr>\n",
       "    <tr>\n",
       "      <th>...</th>\n",
       "      <td>...</td>\n",
       "      <td>...</td>\n",
       "      <td>...</td>\n",
       "    </tr>\n",
       "    <tr>\n",
       "      <th>95</th>\n",
       "      <td>95</td>\n",
       "      <td>1</td>\n",
       "      <td>9.64803</td>\n",
       "    </tr>\n",
       "    <tr>\n",
       "      <th>96</th>\n",
       "      <td>96</td>\n",
       "      <td>7</td>\n",
       "      <td>9.64803</td>\n",
       "    </tr>\n",
       "    <tr>\n",
       "      <th>97</th>\n",
       "      <td>97</td>\n",
       "      <td>12</td>\n",
       "      <td>9.64803</td>\n",
       "    </tr>\n",
       "    <tr>\n",
       "      <th>98</th>\n",
       "      <td>98</td>\n",
       "      <td>7</td>\n",
       "      <td>9.64803</td>\n",
       "    </tr>\n",
       "    <tr>\n",
       "      <th>99</th>\n",
       "      <td>99</td>\n",
       "      <td>0</td>\n",
       "      <td>9.64803</td>\n",
       "    </tr>\n",
       "  </tbody>\n",
       "</table>\n",
       "<p>100 rows × 3 columns</p>\n",
       "</div>"
      ],
      "text/plain": [
       "    Unnamed: 0   a        b\n",
       "0            0  15  9.64803\n",
       "1            1  25  9.64803\n",
       "2            2  24  9.64803\n",
       "3            3  21  9.64803\n",
       "4            4  16  9.64803\n",
       "..         ...  ..      ...\n",
       "95          95   1  9.64803\n",
       "96          96   7  9.64803\n",
       "97          97  12  9.64803\n",
       "98          98   7  9.64803\n",
       "99          99   0  9.64803\n",
       "\n",
       "[100 rows x 3 columns]"
      ]
     },
     "execution_count": 5,
     "metadata": {},
     "output_type": "execute_result"
    }
   ],
   "source": [
    "csv_list = list(basedir.glob('*.csv'))\n",
    "x = pd.read_csv(csv_list[0])\n",
    "x"
   ]
  },
  {
   "cell_type": "code",
   "execution_count": 25,
   "metadata": {},
   "outputs": [
    {
     "data": {
      "image/png": "[encoded data removed]",
      "text/plain": [
       "<Figure size 640x480 with 1 Axes>"
      ]
     },
     "metadata": {},
     "output_type": "display_data"
    }
   ],
   "source": [
    "csv_list = list(basedir.glob('*.csv'))\n",
    "for filename in csv_list:\n",
    "    df= pd.read_csv(filename)\n",
    "    df = df['a']\n",
    "    plt.hist(df)\n",
    "    plt.savefig(filename.with_suffix('.png'));\n",
    "\n",
    "#df\n",
    "#plt.hist(df)"
   ]
  }
 ],
 "metadata": {
  "kernelspec": {
   "display_name": "Python 3.9.12 ('base': conda)",
   "language": "python",
   "name": "python3"
  },
  "language_info": {
   "codemirror_mode": {
    "name": "ipython",
    "version": 3
   },
   "file_extension": ".py",
   "mimetype": "text/x-python",
   "name": "python",
   "nbconvert_exporter": "python",
   "pygments_lexer": "ipython3",
   "version": "3.9.12"
  },
  "orig_nbformat": 4,
  "vscode": {
   "interpreter": {
    "hash": "561aa7e90536f8d3504249807164c36879ac4e0f88f61e36d3f9364d99fad98f"
   }
  }
 },
 "nbformat": 4,
 "nbformat_minor": 2
}
