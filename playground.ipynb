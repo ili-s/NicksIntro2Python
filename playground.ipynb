{
 "cells": [
  {
   "cell_type": "code",
   "execution_count": 3,
   "metadata": {},
   "outputs": [
    {
     "ename": "SyntaxError",
     "evalue": "invalid syntax (3821810455.py, line 5)",
     "output_type": "error",
     "traceback": [
      "\u001b[0;36m  Cell \u001b[0;32mIn [3], line 5\u001b[0;36m\u001b[0m\n\u001b[0;31m    lc = text.count(i)\u001b[0m\n\u001b[0m       ^\u001b[0m\n\u001b[0;31mSyntaxError\u001b[0m\u001b[0;31m:\u001b[0m invalid syntax\n"
     ]
    }
   ],
   "source": [
    "text = 'conda2rta'\n",
    "\n",
    "for i in text:\n",
    "        {\n",
    "            lc = text.count(i)\n",
    "            if(lc >= 2 ):\n",
    "                {\n",
    "                    text = text.replace(i,'')\n",
    "                    count = count + 1\n",
    "                }\n",
    "            #if (i >= len(text)): \n",
    "            #    return count\n",
    "            #print(i,' : ', text.count(i) )\n",
    "        }\n",
    "print(count)"
   ]
  },
  {
   "cell_type": "code",
   "execution_count": null,
   "metadata": {},
   "outputs": [],
   "source": [
    "text = 'conda2rta'\n",
    "for i in text:\n",
    "        {\n",
    "            lc = text.count(i)\n",
    "            if(lc >= 2 ):\n",
    "                {\n",
    "                    text = text.replace(i,'')\n",
    "                    count = count + 1\n",
    "                }\n",
    "            #if (i >= len(text)): \n",
    "            #    return count\n",
    "            #print(i,' : ', text.count(i) )\n",
    "        }"
   ]
  }
 ],
 "metadata": {
  "kernelspec": {
   "display_name": "Python 3.8.13 64-bit ('shims')",
   "language": "python",
   "name": "python3"
  },
  "language_info": {
   "codemirror_mode": {
    "name": "ipython",
    "version": 3
   },
   "file_extension": ".py",
   "mimetype": "text/x-python",
   "name": "python",
   "nbconvert_exporter": "python",
   "pygments_lexer": "ipython3",
   "version": "3.8.13"
  },
  "orig_nbformat": 4,
  "vscode": {
   "interpreter": {
    "hash": "9ac03a0a6051494cc606d484d27d20fce22fb7b4d169f583271e11d5ba46a56e"
   }
  }
 },
 "nbformat": 4,
 "nbformat_minor": 2
}
